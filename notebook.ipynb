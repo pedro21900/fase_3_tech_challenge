{
 "cells": [
  {
   "metadata": {
    "ExecuteTime": {
     "end_time": "2024-09-28T22:41:30.646171Z",
     "start_time": "2024-09-28T22:41:30.642453Z"
    }
   },
   "cell_type": "code",
   "source": [
    "import numpy as np\n",
    "import pandas as pd\n",
    "import seaborn as sns"
   ],
   "id": "5f7e937653fcea8b",
   "outputs": [],
   "execution_count": 1
  },
  {
   "metadata": {},
   "cell_type": "markdown",
   "source": [
    "# Contexto\n",
    "Este conjunto de dados clássico contém os preços e outros atributos de quase 54.000 diamantes. É um ótimo conjunto de dados para iniciantes que estão aprendendo a trabalhar com análise e visualização de dados.\n",
    "\n",
    "## Conteúdo\n",
    "- **preco**: preço em dólares americanos (\\$326--\\$18.823)\n",
    "- **quilate**: peso em quilates do diamante (0,2--5,01)\n",
    "- **corte**: qualidade do corte (Regular, Bom, Muito Bom, Premium, Ideal)\n",
    "- **cor**: cor do diamante, de J (pior) a D (melhor)\n",
    "- **clareza**: uma medida de quão claro é o diamante (I1 (pior), SI2, SI1, VS2, VS1, VVS2, VVS1, IF (melhor))\n",
    "- **X**: comprimento em mm (0--10,74)\n",
    "- **Y**: largura em mm (0--58,9)\n",
    "- **Z**: profundidade em mm (0--31,8)\n",
    "- **profundidade**: total de profundidade = z / média (x, y) = 2 * z / (x + y) (43--79)\n",
    "- **Largura do topo(lg_topo)**: do topo do diamante em relação ao ponto mais largo (43--95)\n"
   ],
   "id": "3473befd8a32eb6b"
  },
  {
   "metadata": {
    "ExecuteTime": {
     "end_time": "2024-09-28T22:41:30.707918Z",
     "start_time": "2024-09-28T22:41:30.647176Z"
    }
   },
   "cell_type": "code",
   "source": [
    "# Creating the dataframe\n",
    "diamonds_df = pd.read_csv('resources/diamonds/diamonds.csv')"
   ],
   "id": "fbc121e30a2defb3",
   "outputs": [],
   "execution_count": 2
  },
  {
   "metadata": {
    "ExecuteTime": {
     "end_time": "2024-09-28T22:41:30.726204Z",
     "start_time": "2024-09-28T22:41:30.708924Z"
    }
   },
   "cell_type": "code",
   "source": "diamonds_df.head()",
   "id": "b56c2c0d7a5dda7f",
   "outputs": [
    {
     "data": {
      "text/plain": [
       "   quilate    corte cor clareza  profundidade  lg_topo  preco     x     y  \\\n",
       "0     0.23    Ideal   E     SI2          61.5     55.0    326  3.95  3.98   \n",
       "1     0.21  Premium   E     SI1          59.8     61.0    326  3.89  3.84   \n",
       "2     0.23     Good   E     VS1          56.9     65.0    327  4.05  4.07   \n",
       "3     0.29  Premium   I     VS2          62.4     58.0    334  4.20  4.23   \n",
       "4     0.31     Good   J     SI2          63.3     58.0    335  4.34  4.35   \n",
       "\n",
       "      z  \n",
       "0  2.43  \n",
       "1  2.31  \n",
       "2  2.31  \n",
       "3  2.63  \n",
       "4  2.75  "
      ],
      "text/html": [
       "<div>\n",
       "<style scoped>\n",
       "    .dataframe tbody tr th:only-of-type {\n",
       "        vertical-align: middle;\n",
       "    }\n",
       "\n",
       "    .dataframe tbody tr th {\n",
       "        vertical-align: top;\n",
       "    }\n",
       "\n",
       "    .dataframe thead th {\n",
       "        text-align: right;\n",
       "    }\n",
       "</style>\n",
       "<table border=\"1\" class=\"dataframe\">\n",
       "  <thead>\n",
       "    <tr style=\"text-align: right;\">\n",
       "      <th></th>\n",
       "      <th>quilate</th>\n",
       "      <th>corte</th>\n",
       "      <th>cor</th>\n",
       "      <th>clareza</th>\n",
       "      <th>profundidade</th>\n",
       "      <th>lg_topo</th>\n",
       "      <th>preco</th>\n",
       "      <th>x</th>\n",
       "      <th>y</th>\n",
       "      <th>z</th>\n",
       "    </tr>\n",
       "  </thead>\n",
       "  <tbody>\n",
       "    <tr>\n",
       "      <th>0</th>\n",
       "      <td>0.23</td>\n",
       "      <td>Ideal</td>\n",
       "      <td>E</td>\n",
       "      <td>SI2</td>\n",
       "      <td>61.5</td>\n",
       "      <td>55.0</td>\n",
       "      <td>326</td>\n",
       "      <td>3.95</td>\n",
       "      <td>3.98</td>\n",
       "      <td>2.43</td>\n",
       "    </tr>\n",
       "    <tr>\n",
       "      <th>1</th>\n",
       "      <td>0.21</td>\n",
       "      <td>Premium</td>\n",
       "      <td>E</td>\n",
       "      <td>SI1</td>\n",
       "      <td>59.8</td>\n",
       "      <td>61.0</td>\n",
       "      <td>326</td>\n",
       "      <td>3.89</td>\n",
       "      <td>3.84</td>\n",
       "      <td>2.31</td>\n",
       "    </tr>\n",
       "    <tr>\n",
       "      <th>2</th>\n",
       "      <td>0.23</td>\n",
       "      <td>Good</td>\n",
       "      <td>E</td>\n",
       "      <td>VS1</td>\n",
       "      <td>56.9</td>\n",
       "      <td>65.0</td>\n",
       "      <td>327</td>\n",
       "      <td>4.05</td>\n",
       "      <td>4.07</td>\n",
       "      <td>2.31</td>\n",
       "    </tr>\n",
       "    <tr>\n",
       "      <th>3</th>\n",
       "      <td>0.29</td>\n",
       "      <td>Premium</td>\n",
       "      <td>I</td>\n",
       "      <td>VS2</td>\n",
       "      <td>62.4</td>\n",
       "      <td>58.0</td>\n",
       "      <td>334</td>\n",
       "      <td>4.20</td>\n",
       "      <td>4.23</td>\n",
       "      <td>2.63</td>\n",
       "    </tr>\n",
       "    <tr>\n",
       "      <th>4</th>\n",
       "      <td>0.31</td>\n",
       "      <td>Good</td>\n",
       "      <td>J</td>\n",
       "      <td>SI2</td>\n",
       "      <td>63.3</td>\n",
       "      <td>58.0</td>\n",
       "      <td>335</td>\n",
       "      <td>4.34</td>\n",
       "      <td>4.35</td>\n",
       "      <td>2.75</td>\n",
       "    </tr>\n",
       "  </tbody>\n",
       "</table>\n",
       "</div>"
      ]
     },
     "execution_count": 3,
     "metadata": {},
     "output_type": "execute_result"
    }
   ],
   "execution_count": 3
  },
  {
   "metadata": {},
   "cell_type": "markdown",
   "source": "## Convertendo string para numero",
   "id": "6f25d8f0c7df98f7"
  },
  {
   "metadata": {
    "ExecuteTime": {
     "end_time": "2024-09-28T22:41:30.733913Z",
     "start_time": "2024-09-28T22:41:30.727210Z"
    }
   },
   "cell_type": "code",
   "source": "diamonds_df['clareza'].unique()",
   "id": "58fae7c0461a4b52",
   "outputs": [
    {
     "data": {
      "text/plain": [
       "array(['SI2', 'SI1', 'VS1', 'VS2', 'VVS2', 'VVS1', 'I1', 'IF'],\n",
       "      dtype=object)"
      ]
     },
     "execution_count": 4,
     "metadata": {},
     "output_type": "execute_result"
    }
   ],
   "execution_count": 4
  },
  {
   "metadata": {
    "ExecuteTime": {
     "end_time": "2024-09-28T22:41:30.743724Z",
     "start_time": "2024-09-28T22:41:30.734920Z"
    }
   },
   "cell_type": "code",
   "source": "diamonds_df['corte'].unique()",
   "id": "387a8233f49625fa",
   "outputs": [
    {
     "data": {
      "text/plain": [
       "array(['Ideal', 'Premium', 'Good', 'Very Good', 'Fair'], dtype=object)"
      ]
     },
     "execution_count": 5,
     "metadata": {},
     "output_type": "execute_result"
    }
   ],
   "execution_count": 5
  },
  {
   "metadata": {
    "ExecuteTime": {
     "end_time": "2024-09-28T22:41:30.752135Z",
     "start_time": "2024-09-28T22:41:30.744730Z"
    }
   },
   "cell_type": "code",
   "source": "diamonds_df['cor'].unique()",
   "id": "74c942de254bf907",
   "outputs": [
    {
     "data": {
      "text/plain": [
       "array(['E', 'I', 'J', 'H', 'F', 'G', 'D'], dtype=object)"
      ]
     },
     "execution_count": 6,
     "metadata": {},
     "output_type": "execute_result"
    }
   ],
   "execution_count": 6
  },
  {
   "metadata": {
    "ExecuteTime": {
     "end_time": "2024-09-28T22:41:30.758257Z",
     "start_time": "2024-09-28T22:41:30.753146Z"
    }
   },
   "cell_type": "code",
   "source": [
    "def replacement_column_str_to_int(column:str):\n",
    "    substituicao = {value: index + 1 for index, value in enumerate(diamonds_df[column].unique())}\n",
    "    # Substituindo os valores na coluna 'corte'\n",
    "    diamonds_df[column] = diamonds_df[column].map(substituicao)\n",
    "    diamonds_df[column].unique()"
   ],
   "id": "5a2258c6ab55022e",
   "outputs": [],
   "execution_count": 7
  },
  {
   "metadata": {
    "ExecuteTime": {
     "end_time": "2024-09-28T22:41:30.779745Z",
     "start_time": "2024-09-28T22:41:30.760265Z"
    }
   },
   "cell_type": "code",
   "source": [
    "for column in ['clareza', 'corte','cor']:\n",
    "    replacement_column_str_to_int(column)"
   ],
   "id": "9c01038786707ed9",
   "outputs": [],
   "execution_count": 8
  },
  {
   "metadata": {},
   "cell_type": "markdown",
   "source": "## Mapa de calor",
   "id": "8f74c4fd0f990553"
  },
  {
   "metadata": {
    "ExecuteTime": {
     "end_time": "2024-09-28T22:41:31.266402Z",
     "start_time": "2024-09-28T22:41:30.780752Z"
    }
   },
   "cell_type": "code",
   "source": "sns.heatmap(diamonds_df.corr(), annot = True);",
   "id": "632ee59b005f0855",
   "outputs": [
    {
     "data": {
      "text/plain": [
       "<Figure size 640x480 with 2 Axes>"
      ],
      "image/png": "[encoded data removed]"
     },
     "metadata": {},
     "output_type": "display_data"
    }
   ],
   "execution_count": 9
  },
  {
   "metadata": {},
   "cell_type": "markdown",
   "source": "> Segundo o mapa da calor as colunas 'cor','clareza','profundidade','corte','lg_topo'  não tem ligação forte com o preço, que pode ser descartado para limpar os dados",
   "id": "f8e14d81eb43a898"
  },
  {
   "metadata": {
    "ExecuteTime": {
     "end_time": "2024-09-28T22:41:31.280278Z",
     "start_time": "2024-09-28T22:41:31.267409Z"
    }
   },
   "cell_type": "code",
   "source": [
    "diamonds_df.drop(['cor','clareza','profundidade','corte','lg_topo'],inplace=True,axis=1)\n",
    "diamonds_df.head()"
   ],
   "id": "38e750c686313314",
   "outputs": [
    {
     "data": {
      "text/plain": [
       "   quilate  preco     x     y     z\n",
       "0     0.23    326  3.95  3.98  2.43\n",
       "1     0.21    326  3.89  3.84  2.31\n",
       "2     0.23    327  4.05  4.07  2.31\n",
       "3     0.29    334  4.20  4.23  2.63\n",
       "4     0.31    335  4.34  4.35  2.75"
      ],
      "text/html": [
       "<div>\n",
       "<style scoped>\n",
       "    .dataframe tbody tr th:only-of-type {\n",
       "        vertical-align: middle;\n",
       "    }\n",
       "\n",
       "    .dataframe tbody tr th {\n",
       "        vertical-align: top;\n",
       "    }\n",
       "\n",
       "    .dataframe thead th {\n",
       "        text-align: right;\n",
       "    }\n",
       "</style>\n",
       "<table border=\"1\" class=\"dataframe\">\n",
       "  <thead>\n",
       "    <tr style=\"text-align: right;\">\n",
       "      <th></th>\n",
       "      <th>quilate</th>\n",
       "      <th>preco</th>\n",
       "      <th>x</th>\n",
       "      <th>y</th>\n",
       "      <th>z</th>\n",
       "    </tr>\n",
       "  </thead>\n",
       "  <tbody>\n",
       "    <tr>\n",
       "      <th>0</th>\n",
       "      <td>0.23</td>\n",
       "      <td>326</td>\n",
       "      <td>3.95</td>\n",
       "      <td>3.98</td>\n",
       "      <td>2.43</td>\n",
       "    </tr>\n",
       "    <tr>\n",
       "      <th>1</th>\n",
       "      <td>0.21</td>\n",
       "      <td>326</td>\n",
       "      <td>3.89</td>\n",
       "      <td>3.84</td>\n",
       "      <td>2.31</td>\n",
       "    </tr>\n",
       "    <tr>\n",
       "      <th>2</th>\n",
       "      <td>0.23</td>\n",
       "      <td>327</td>\n",
       "      <td>4.05</td>\n",
       "      <td>4.07</td>\n",
       "      <td>2.31</td>\n",
       "    </tr>\n",
       "    <tr>\n",
       "      <th>3</th>\n",
       "      <td>0.29</td>\n",
       "      <td>334</td>\n",
       "      <td>4.20</td>\n",
       "      <td>4.23</td>\n",
       "      <td>2.63</td>\n",
       "    </tr>\n",
       "    <tr>\n",
       "      <th>4</th>\n",
       "      <td>0.31</td>\n",
       "      <td>335</td>\n",
       "      <td>4.34</td>\n",
       "      <td>4.35</td>\n",
       "      <td>2.75</td>\n",
       "    </tr>\n",
       "  </tbody>\n",
       "</table>\n",
       "</div>"
      ]
     },
     "execution_count": 10,
     "metadata": {},
     "output_type": "execute_result"
    }
   ],
   "execution_count": 10
  },
  {
   "metadata": {},
   "cell_type": "markdown",
   "source": "## Linpando os dados",
   "id": "e37690c0601de17e"
  },
  {
   "metadata": {
    "ExecuteTime": {
     "end_time": "2024-09-28T22:41:31.286811Z",
     "start_time": "2024-09-28T22:41:31.281284Z"
    }
   },
   "cell_type": "code",
   "source": [
    "def remove_outliers(column:str):\n",
    "    dados = np.array(diamonds_df[column])\n",
    "    \n",
    "    q1 = np.percentile(dados, 25)\n",
    "    q3 = np.percentile(dados, 75)\n",
    "    iqr = q3 - q1\n",
    "    \n",
    "    # Limite inferior e superior\n",
    "    limite_inf = q1 - 1.5 * iqr\n",
    "    limite_sup = q3 + 1.5 * iqr\n",
    "    \n",
    "    #Separação dos dados que não estão dentro dos limites\n",
    "    outliers=np.where((dados<limite_inf)|(dados>limite_sup))[0]\n",
    "    #Removendo outliers\n",
    "    diamonds_df.loc[outliers, column] =   np.nan\n"
   ],
   "id": "78f1061ea34769a9",
   "outputs": [],
   "execution_count": 11
  },
  {
   "metadata": {
    "ExecuteTime": {
     "end_time": "2024-09-28T22:41:31.303972Z",
     "start_time": "2024-09-28T22:41:31.287817Z"
    }
   },
   "cell_type": "code",
   "source": [
    "for column in diamonds_df.columns:\n",
    "    remove_outliers(column)"
   ],
   "id": "38b4014f9ca1224b",
   "outputs": [],
   "execution_count": 12
  },
  {
   "metadata": {
    "ExecuteTime": {
     "end_time": "2024-09-28T22:41:31.312938Z",
     "start_time": "2024-09-28T22:41:31.304982Z"
    }
   },
   "cell_type": "code",
   "source": "diamonds_df = diamonds_df.dropna(how='all')",
   "id": "2c18418ce0caafdb",
   "outputs": [],
   "execution_count": 13
  },
  {
   "metadata": {},
   "cell_type": "markdown",
   "source": "## Normalizando os dados",
   "id": "844c1ad5770124c2"
  },
  {
   "metadata": {
    "ExecuteTime": {
     "end_time": "2024-09-28T22:41:32.865313Z",
     "start_time": "2024-09-28T22:41:31.314946Z"
    }
   },
   "cell_type": "code",
   "source": [
    "from sklearn.impute import SimpleImputer\n",
    "\n",
    "# Criar o imputador (usando a estratégia de média, mas isso pode ser alterado)\n",
    "imputador = SimpleImputer(missing_values=np.nan, strategy='mean')\n",
    "\n",
    "# Aplicar o imputador ao DataFrame inteiro, mantendo as colunas originais\n",
    "diamonds_df = pd.DataFrame(imputador.fit_transform(diamonds_df), columns=diamonds_df.columns)\n",
    "\n",
    "diamonds_df"
   ],
   "id": "f4517c9ca15c8e08",
   "outputs": [
    {
     "data": {
      "text/plain": [
       "       quilate   preco     x     y     z\n",
       "0         0.23   326.0  3.95  3.98  2.43\n",
       "1         0.21   326.0  3.89  3.84  2.31\n",
       "2         0.23   327.0  4.05  4.07  2.31\n",
       "3         0.29   334.0  4.20  4.23  2.63\n",
       "4         0.31   335.0  4.34  4.35  2.75\n",
       "...        ...     ...   ...   ...   ...\n",
       "53922     0.72  2757.0  5.75  5.76  3.50\n",
       "53923     0.72  2757.0  5.69  5.75  3.61\n",
       "53924     0.70  2757.0  5.66  5.68  3.56\n",
       "53925     0.86  2757.0  6.15  6.12  3.74\n",
       "53926     0.75  2757.0  5.83  5.87  3.64\n",
       "\n",
       "[53927 rows x 5 columns]"
      ],
      "text/html": [
       "<div>\n",
       "<style scoped>\n",
       "    .dataframe tbody tr th:only-of-type {\n",
       "        vertical-align: middle;\n",
       "    }\n",
       "\n",
       "    .dataframe tbody tr th {\n",
       "        vertical-align: top;\n",
       "    }\n",
       "\n",
       "    .dataframe thead th {\n",
       "        text-align: right;\n",
       "    }\n",
       "</style>\n",
       "<table border=\"1\" class=\"dataframe\">\n",
       "  <thead>\n",
       "    <tr style=\"text-align: right;\">\n",
       "      <th></th>\n",
       "      <th>quilate</th>\n",
       "      <th>preco</th>\n",
       "      <th>x</th>\n",
       "      <th>y</th>\n",
       "      <th>z</th>\n",
       "    </tr>\n",
       "  </thead>\n",
       "  <tbody>\n",
       "    <tr>\n",
       "      <th>0</th>\n",
       "      <td>0.23</td>\n",
       "      <td>326.0</td>\n",
       "      <td>3.95</td>\n",
       "      <td>3.98</td>\n",
       "      <td>2.43</td>\n",
       "    </tr>\n",
       "    <tr>\n",
       "      <th>1</th>\n",
       "      <td>0.21</td>\n",
       "      <td>326.0</td>\n",
       "      <td>3.89</td>\n",
       "      <td>3.84</td>\n",
       "      <td>2.31</td>\n",
       "    </tr>\n",
       "    <tr>\n",
       "      <th>2</th>\n",
       "      <td>0.23</td>\n",
       "      <td>327.0</td>\n",
       "      <td>4.05</td>\n",
       "      <td>4.07</td>\n",
       "      <td>2.31</td>\n",
       "    </tr>\n",
       "    <tr>\n",
       "      <th>3</th>\n",
       "      <td>0.29</td>\n",
       "      <td>334.0</td>\n",
       "      <td>4.20</td>\n",
       "      <td>4.23</td>\n",
       "      <td>2.63</td>\n",
       "    </tr>\n",
       "    <tr>\n",
       "      <th>4</th>\n",
       "      <td>0.31</td>\n",
       "      <td>335.0</td>\n",
       "      <td>4.34</td>\n",
       "      <td>4.35</td>\n",
       "      <td>2.75</td>\n",
       "    </tr>\n",
       "    <tr>\n",
       "      <th>...</th>\n",
       "      <td>...</td>\n",
       "      <td>...</td>\n",
       "      <td>...</td>\n",
       "      <td>...</td>\n",
       "      <td>...</td>\n",
       "    </tr>\n",
       "    <tr>\n",
       "      <th>53922</th>\n",
       "      <td>0.72</td>\n",
       "      <td>2757.0</td>\n",
       "      <td>5.75</td>\n",
       "      <td>5.76</td>\n",
       "      <td>3.50</td>\n",
       "    </tr>\n",
       "    <tr>\n",
       "      <th>53923</th>\n",
       "      <td>0.72</td>\n",
       "      <td>2757.0</td>\n",
       "      <td>5.69</td>\n",
       "      <td>5.75</td>\n",
       "      <td>3.61</td>\n",
       "    </tr>\n",
       "    <tr>\n",
       "      <th>53924</th>\n",
       "      <td>0.70</td>\n",
       "      <td>2757.0</td>\n",
       "      <td>5.66</td>\n",
       "      <td>5.68</td>\n",
       "      <td>3.56</td>\n",
       "    </tr>\n",
       "    <tr>\n",
       "      <th>53925</th>\n",
       "      <td>0.86</td>\n",
       "      <td>2757.0</td>\n",
       "      <td>6.15</td>\n",
       "      <td>6.12</td>\n",
       "      <td>3.74</td>\n",
       "    </tr>\n",
       "    <tr>\n",
       "      <th>53926</th>\n",
       "      <td>0.75</td>\n",
       "      <td>2757.0</td>\n",
       "      <td>5.83</td>\n",
       "      <td>5.87</td>\n",
       "      <td>3.64</td>\n",
       "    </tr>\n",
       "  </tbody>\n",
       "</table>\n",
       "<p>53927 rows × 5 columns</p>\n",
       "</div>"
      ]
     },
     "execution_count": 14,
     "metadata": {},
     "output_type": "execute_result"
    }
   ],
   "execution_count": 14
  },
  {
   "metadata": {},
   "cell_type": "markdown",
   "source": "## Treinando o modelo de regressão",
   "id": "c850aff886e21c8c"
  },
  {
   "metadata": {
    "ExecuteTime": {
     "end_time": "2024-09-28T22:41:37.514738Z",
     "start_time": "2024-09-28T22:41:32.866317Z"
    }
   },
   "cell_type": "code",
   "source": [
    "from sklearn.tree import DecisionTreeRegressor\n",
    "from sklearn.model_selection import train_test_split, GridSearchCV\n",
    "from sklearn.preprocessing import StandardScaler\n",
    "from sklearn.metrics import mean_squared_error\n",
    "from sklearn.decomposition import PCA\n",
    "from sklearn.pipeline import make_pipeline\n",
    "\n",
    "# Separar variáveis independentes (X) e dependentes (y)\n",
    "y = diamonds_df['preco'].values.ravel()  # Usar ravel() para converter em vetor 1D\n",
    "X = diamonds_df.drop('preco', axis=1)\n",
    "\n",
    "# Padronização dos dados com média 0 e desvio padrão 1\n",
    "scaler_y = StandardScaler()\n",
    "scaler_x = StandardScaler()\n",
    "\n",
    "y_scaled = scaler_y.fit_transform(y.reshape(-1, 1)).ravel()  # Ajuste e converta em vetor 1D\n",
    "X_scaled = scaler_x.fit_transform(X)\n",
    "\n",
    "# Dividir os dados em treino e teste\n",
    "x_train, x_test, y_train, y_test = train_test_split(X_scaled, y_scaled, test_size=0.3, random_state=0)\n",
    "\n",
    "# Reduzindo a dimencionalidade para de 4 para 3\n",
    "pca = PCA(n_components=3, whiten=True, random_state=42)\n",
    "model = DecisionTreeRegressor()\n",
    "\n",
    "pipeline = make_pipeline(pca, model)\n",
    "\n",
    "grid_search = GridSearchCV(pipeline, {}, n_jobs=-1, verbose=3)\n",
    "grid_search.fit(x_train, y_train)\n",
    "\n",
    "best_model = grid_search.best_estimator_"
   ],
   "id": "6e5c8eb04fd32387",
   "outputs": [
    {
     "name": "stdout",
     "output_type": "stream",
     "text": [
      "Fitting 5 folds for each of 1 candidates, totalling 5 fits\n"
     ]
    }
   ],
   "execution_count": 15
  },
  {
   "metadata": {},
   "cell_type": "markdown",
   "source": "## Testando modelo",
   "id": "1b594f6680d7183c"
  },
  {
   "metadata": {
    "ExecuteTime": {
     "end_time": "2024-09-28T22:44:56.449909Z",
     "start_time": "2024-09-28T22:44:56.435354Z"
    }
   },
   "cell_type": "code",
   "source": [
    "from sklearn.metrics import mean_absolute_error, mean_absolute_percentage_error\n",
    "\n",
    "y_pred = best_model.predict(x_test)\n",
    "# Inverter a padronização das previsões\n",
    "y_pred_real = scaler_y.inverse_transform(y_pred.reshape(-1, 1))\n",
    "\n",
    "# Inverter a padronização dos valores reais para comparação\n",
    "# Certifique-se de que y_test também esteja em 2D\n",
    "y_test_real = scaler_y.inverse_transform(y_test.reshape(-1, 1))\n",
    "\n",
    "# Avaliar o desempenho do modelo usando o erro quadrático médio\n",
    "mse = mean_squared_error(y_test_real, y_pred_real)\n",
    "\n",
    "# Mostrar as previsões\n",
    "print(f\"Predições (reais): {y_pred_real.flatten()[:5]}\")  # Mostrando as primeiras 5 previsões\n",
    "\n",
    "\n",
    "mae = mean_absolute_error(y_test_real, y_pred_real)\n",
    "mse = mean_squared_error(y_test_real, y_pred_real)\n",
    "rmse = np.sqrt(mse)\n",
    "mape = mean_absolute_percentage_error(y_test_real, y_pred_real)\n",
    "\n",
    "\n",
    "print(f\"MAE: {mae:.2f}\")\n",
    "print(f\"MSE: {mse:.2f}\")\n",
    "print(f\"RMSE: {rmse:.2f}\")\n",
    "print(f\"MAPE: {mape:.2f}\")"
   ],
   "id": "4052d59214794cc",
   "outputs": [
    {
     "name": "stdout",
     "output_type": "stream",
     "text": [
      "Predições (reais): [ 900. 1550. 2362.  666. 7550.]\n",
      "MAE: 900.56\n",
      "MSE: 3135330.83\n",
      "RMSE: 1770.69\n",
      "MAPE: 0.27\n"
     ]
    }
   ],
   "execution_count": 18
  }
 ],
 "metadata": {
  "kernelspec": {
   "display_name": "Python 3",
   "language": "python",
   "name": "python3"
  },
  "language_info": {
   "codemirror_mode": {
    "name": "ipython",
    "version": 2
   },
   "file_extension": ".py",
   "mimetype": "text/x-python",
   "name": "python",
   "nbconvert_exporter": "python",
   "pygments_lexer": "ipython2",
   "version": "2.7.6"
  }
 },
 "nbformat": 4,
 "nbformat_minor": 5
}
